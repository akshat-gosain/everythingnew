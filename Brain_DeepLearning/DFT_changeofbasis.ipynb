{
 "cells": [
  {
   "cell_type": "code",
   "execution_count": 12,
   "metadata": {},
   "outputs": [
    {
     "name": "stdout",
     "output_type": "stream",
     "text": [
      "theta_cap= [0.         1.57079633 3.14159265 4.71238898]\n",
      "B=\n",
      " [[ 1.0000000e+00  1.0000000e+00  0.0000000e+00  0.0000000e+00]\n",
      " [ 1.0000000e+00  6.1232340e-17  1.2246468e-16 -1.0000000e+00]\n",
      " [ 1.0000000e+00 -1.0000000e+00 -2.4492936e-16  3.6739404e-16]\n",
      " [ 1.0000000e+00 -1.8369702e-16  3.6739404e-16  1.0000000e+00]]\n"
     ]
    }
   ],
   "source": [
    "#constructing basis vectors\n",
    "import numpy as np\n",
    "import matplotlib.pyplot as plt\n",
    "\n",
    "N=4\n",
    "theta_cap = np.arange(0,2*np.pi,2*np.pi/N)\n",
    "print(\"theta_cap=\",theta_cap)\n",
    "x1 = np.cos(0*theta_cap)\n",
    "x2 = np.cos(1*theta_cap)\n",
    "x3 = np.sin(2*theta_cap)\n",
    "x4 = np.sin(3*theta_cap)\n",
    "\n",
    "\n",
    "#Basis vectors stacked as columns of B matrix.\n",
    "B = np.empty((4,4))\n",
    "B[:,0] = x1\n",
    "B[:,1] = x2\n",
    "B[:,2] = x3\n",
    "B[:,3] = x4\n",
    "\n",
    "print(\"B=\\n\",B)\n"
   ]
  },
  {
   "cell_type": "code",
   "execution_count": 23,
   "metadata": {},
   "outputs": [
    {
     "name": "stdout",
     "output_type": "stream",
     "text": [
      "[[ 0.70710678  0.70710678  0.          0.        ]\n",
      " [ 0.          0.          0.70710678  0.70710678]\n",
      " [ 0.70710678 -0.70710678  0.          0.        ]\n",
      " [ 0.          0.          0.70710678 -0.70710678]]\n"
     ]
    }
   ],
   "source": [
    "import numpy as np\n",
    "\n",
    "# Define the Haar matrix\n",
    "haar_matrix = (1/np.sqrt(2)) * np.array([[1, 1, 0, 0], [0, 0, 1, 1], [1, -1, 0, 0], [0, 0, 1, -1]])\n",
    "\n",
    "print(haar_matrix)\n",
    "\n",
    "H = haar_matrix"
   ]
  },
  {
   "cell_type": "code",
   "execution_count": 27,
   "metadata": {},
   "outputs": [
    {
     "name": "stdout",
     "output_type": "stream",
     "text": [
      "[[  1.           1.           1.         ...   1.           1.\n",
      "    1.        ]\n",
      " [  1.           1.           1.         ...  -1.          -1.\n",
      "   -1.        ]\n",
      " [  1.41421356   1.41421356   1.41421356 ...  -0.          -0.\n",
      "   -0.        ]\n",
      " ...\n",
      " [  0.          -0.           0.         ...  -0.           0.\n",
      "   -0.        ]\n",
      " [  0.          -0.           0.         ... -16.           0.\n",
      "   -0.        ]\n",
      " [  0.          -0.           0.         ...  -0.          16.\n",
      "  -16.        ]]\n"
     ]
    }
   ],
   "source": [
    "import numpy as np\n",
    "\n",
    "def haar_matrix(n):\n",
    "    n = 2**np.ceil(np.log2(n))\n",
    "    if n > 2:\n",
    "        h = haar_matrix(n / 2)\n",
    "    else:\n",
    "        return np.array([[1, 1], [1, -1]])\n",
    "\n",
    "    # calculate upper haar part\n",
    "    h_n = np.kron(h, [1, 1])\n",
    "    # calculate lower haar part \n",
    "    h_i = np.sqrt(n/2)*np.kron(np.eye(len(h)), [1, -1]) \n",
    "\n",
    "    # combine parts\n",
    "    h = np.vstack((h_n, h_i))\n",
    "    return h\n",
    "\n",
    "# Test the function\n",
    "n = 300\n",
    "H = haar_matrix(n)\n",
    "print(H)\n"
   ]
  },
  {
   "cell_type": "code",
   "execution_count": 24,
   "metadata": {},
   "outputs": [
    {
     "name": "stderr",
     "output_type": "stream",
     "text": [
      "/tmp/ipykernel_459550/3514019950.py:4: DeprecationWarning: Starting with ImageIO v3 the behavior of this function will switch to that of iio.v3.imread. To keep the current behavior (and make this warning disappear) use `import imageio.v2 as imageio` or call `imageio.v2.imread` directly.\n",
      "  I = imageio.imread('sierpinski_triangle.png')\n"
     ]
    }
   ],
   "source": [
    "import imageio\n",
    "\n",
    "# Load the image\n",
    "I = imageio.imread('sierpinski_triangle.png')\n"
   ]
  },
  {
   "cell_type": "code",
   "execution_count": 31,
   "metadata": {},
   "outputs": [],
   "source": [
    "import cv2\n",
    "\n",
    "# Load the image\n",
    "I = cv2.imread('sierpinski_triangle.png', cv2.IMREAD_GRAYSCALE)\n",
    "\n",
    "# Resize the image to 512x512\n",
    "I = cv2.resize(I, (512, 512))\n",
    "\n",
    "# Now you can generate a 512x512 Haar matrix and perform the transformation\n",
    "H = haar_matrix(512)\n",
    "transformed_image = np.dot(np.dot(H, I), np.transpose(H))\n"
   ]
  },
  {
   "cell_type": "code",
   "execution_count": 32,
   "metadata": {},
   "outputs": [
    {
     "data": {
      "image/png": "[encoded data removed]",
      "text/plain": [
       "<Figure size 640x480 with 1 Axes>"
      ]
     },
     "metadata": {},
     "output_type": "display_data"
    }
   ],
   "source": [
    "# Perform the transformation\n",
    "transformed_image = np.dot(np.dot(H, I), np.transpose(H))\n",
    "\n",
    "# Display the transformed image\n",
    "plt.imshow(transformed_image, cmap='gray')\n",
    "plt.axis('off')\n",
    "plt.show()\n",
    "\n"
   ]
  },
  {
   "cell_type": "code",
   "execution_count": null,
   "metadata": {},
   "outputs": [],
   "source": []
  }
 ],
 "metadata": {
  "kernelspec": {
   "display_name": "Python 3",
   "language": "python",
   "name": "python3"
  },
  "language_info": {
   "codemirror_mode": {
    "name": "ipython",
    "version": 3
   },
   "file_extension": ".py",
   "mimetype": "text/x-python",
   "name": "python",
   "nbconvert_exporter": "python",
   "pygments_lexer": "ipython3",
   "version": "3.10.12"
  }
 },
 "nbformat": 4,
 "nbformat_minor": 2
}
