{
 "cells": [
  {
   "cell_type": "code",
   "execution_count": 30,
   "metadata": {},
   "outputs": [],
   "source": [
    "from langchain_community.llms import LlamaCpp\n",
    "from langchain_core.callbacks import CallbackManager, StreamingStdOutCallbackHandler\n",
    "from langchain_core.prompts import PromptTemplate"
   ]
  },
  {
   "cell_type": "code",
   "execution_count": 53,
   "metadata": {},
   "outputs": [],
   "source": [
    "template = \"\"\"\n",
    "[INST] <<sys>>\n",
    "You are a respectful, clear and honest assistent. Your answer is always one sentence. You will be attentive to details.\n",
    "<</sys>>\n",
    "{text}\n",
    "[/INST]\n",
    "\"\"\""
   ]
  },
  {
   "cell_type": "code",
   "execution_count": 61,
   "metadata": {},
   "outputs": [],
   "source": [
    "template = \"\"\"Question: {question}\n",
    "\n",
    "Answer: Summarize this news into 100 words or less\"\"\"\n",
    "\n",
    "prompt = PromptTemplate.from_template(template)"
   ]
  },
  {
   "cell_type": "code",
   "execution_count": 45,
   "metadata": {},
   "outputs": [],
   "source": [
    "template = \"\"\"You have to give a concise summary of the news article provided in 100 words or less\"\"\"\n",
    "\n"
   ]
  },
  {
   "cell_type": "code",
   "execution_count": 62,
   "metadata": {},
   "outputs": [],
   "source": [
    "prompt = PromptTemplate.from_template(template)"
   ]
  },
  {
   "cell_type": "code",
   "execution_count": 32,
   "metadata": {},
   "outputs": [],
   "source": [
    "from langchain.callbacks import StreamingStdOutCallbackHandler\n"
   ]
  },
  {
   "cell_type": "code",
   "execution_count": 33,
   "metadata": {},
   "outputs": [],
   "source": [
    "# Callbacks support token-wise streaming\n",
    "callback_manager = CallbackManager([StreamingStdOutCallbackHandler()])"
   ]
  },
  {
   "cell_type": "code",
   "execution_count": 63,
   "metadata": {},
   "outputs": [],
   "source": [
    "n_gpu_layers = -1  # The number of layers to put on the GPU. The rest will be on the CPU. If you don't know how many layers there are, you can use -1 to move all to GPU.\n",
    "n_batch = 2048 # Should be between 1 and n_ctx, consider the amount of VRAM in your GPU.\n",
    "n_ctx = 2048\n",
    "# Make sure the model path is correct for your system!\n",
    "llm = LlamaCpp(\n",
    "    model_path=\"./Meta-Llama-3-8B-Instruct.Q4_K_M.gguf\",\n",
    "    n_gpu_layers=n_gpu_layers,\n",
    "    n_batch=n_batch,\n",
    "    n_ctx=n_ctx,\n",
    "    callback_manager=callback_manager,\n",
    "    verbose=False,  # Verbose is required to pass to the callback manager\n",
    ")"
   ]
  },
  {
   "cell_type": "code",
   "execution_count": 35,
   "metadata": {},
   "outputs": [],
   "source": [
    "import requests\n",
    "import yfinance as yf\n",
    "from bs4 import BeautifulSoup"
   ]
  },
  {
   "cell_type": "code",
   "execution_count": 36,
   "metadata": {},
   "outputs": [],
   "source": [
    "def scraping_article(url):\n",
    "    headers = {\n",
    "    'User-Agent': 'Your User Agent String',\n",
    "    }\n",
    "    r=requests.get(url,headers=headers)\n",
    "    soup=BeautifulSoup(r.text,'html.parser')\n",
    "    paragraphs=soup.find_all('p')\n",
    "    text= [paragraph.text for paragraph in paragraphs]\n",
    "    words=' '.join(text).split(' ')\n",
    "    article = ' '.join(words)\n",
    "    return article"
   ]
  },
  {
   "cell_type": "code",
   "execution_count": 37,
   "metadata": {},
   "outputs": [],
   "source": [
    "article_text = scraping_article(\"https://www.livemint.com/companies/news/it-will-be-epic-elon-musk-says-he-is-working-on-tesla-master-plan-4-netizens-react-focus-on-saving-the-universe-11718678195727.html\")"
   ]
  },
  {
   "cell_type": "code",
   "execution_count": 47,
   "metadata": {},
   "outputs": [
    {
     "data": {
      "text/plain": [
       "'Elon Musk has confirmed that he is working on Tesla Master Plan 4, the latest iteration in the Master Plan series which has been a guiding light of sorts for the company so far. While informing on X (formerly Twitter) that he is working on the next Master Plan, Musk also stated that \\'it will be epic\\'. Musk has released three Tesla Master Plans so far, the first one was released in 2006, the second one in 2016 and the last one was unveiled in March last year. Musk\\'s 2006 \"secret master plan\" included the creation of a sports car, an affordable car and providing zero emission electric power generation options. In 2016, Musk unveiled his \"Master Plan, Part Deux,\" which included expanding the electric vehicle lineup to all major segments and achieving \"true self-driving.\" In 2022, Tesla\\'s Semi heavy-duty electric trucks began \"pilot production,\" while the Cybertruck was launched late last year. As part of the 2016 plan, Musk claimed that Tesla drivers would be able to sleep, read, or do anything else enroute to their destination while making money by renting out their autonomous vehicles when they are not in use. While Tesla hasn\\'t rolled out a fully autonomous vehicle yet, the company did roll out a paid Full Self Driving option to hundreds of thousands of customers. However, the system isn\\'t fully autonomous given that it requires an attentive driver at the helm. Moreover, the FSD was categorized as a ‘crash risk’ by US National Highway Traffic Safety Administration last year. The FSD system is in addition to the driver assistance system called Autopilot, which all Tesla cars are already equipped with. Tesla also seems to be making progress with launching FSD system in China after recently striking a deal with Baidu. During the last Master Plan in 2023, Musk outlined some key environmental goals like adding renewable energy to the existing grid, producing more electric vehicles and building sustainably fueled planes and boats. The billionaire also stated that mass production of Cybertruck would begin in 2024. Netizens react to Elon Musk\\'s Tesla Masterplan claim:\\xa0One user on X while commenting on Musk\\'s post wrote, “Tesla will own transportation, labor, and energy. Starlink will own telecommunications. X will own peer-to-peer information exchange. All of these are somehow intertwined, and we\\'re gonna put it all on Mars. You\\'re welcome.\" Another user suggested, “Master Plan 4: Now that the Earth has been saved, it is time Tesla focuses on saving the Universe... with SpaceX... and all of Elon\\'s other companies. Hold on tight! The end\" “Robots, flying cars, and autonomy? Whatever it is, it will be awesome because Tesla has the best engineers in the world working for them.\" wote another user \\xa0 \\nMilestone Alert!\\nLivemint tops charts as the fastest growing news website in the world 🌏 Click here  to know more.\\n\\n 3.6 Crore Indians visited in a single day choosing us as India\\'s undisputed platform for General Election Results. Explore the latest updates  here!\\n\\n\\n\\n\\n\\t            Catch all the Corporate news and Updates on Live Mint.\\n\\t        Download The Mint News App to get Daily Market Updates & Live Business News.\\n    \\nMore\\nLess\\n \\n\\t\\tPublished: 18 Jun 2024, 09:45 AM IST\\n\\t\\nTopics You May Be Interested In \\n\\n\\n\\n tesla\\n\\n\\n elon musk\\n\\n\\n elon musk tesla\\n\\n\\n twitter elon musk\\n\\n\\n\\n\\n\\n\\n\\n\\n\\n\\n\\n\\n One user on X while commenting on Musk\\'s post wrote, “Tesla will own transportation, labor, and energy. Starlink will own telecommunications. X will own peer-to-peer information exchange. All of these are somehow intertwined, and we\\'re gonna put it all on Mars. You\\'re welcome.\" Another user suggested, “Master Plan 4: Now that the Earth has been saved, it is time Tesla focuses on saving the Universe... with SpaceX... and all of Elon\\'s other companies. Hold on tight! The end\" “Robots, flying cars, and autonomy? Whatever it is, it will be awesome because Tesla has the best engineers in the world working for them.\" wote another user \\xa0 Milestone Alert!\\nLivemint tops charts as the fastest growing news website in the world 🌏 Click here  to know more.\\n  3.6 Crore Indians visited in a single day choosing us as India\\'s undisputed platform for General Election Results. Explore the latest updates  here!\\n Download the Mint app and read premium stories Log in to our website to save your bookmarks. It\\'ll just take a moment. You are just one step away from creating your watchlist! Oops! Looks like you have exceeded the limit to bookmark the image. Remove some to bookmark this image. Your session has expired, please login again. You are now subscribed to our newsletters. In case you can’t find any email from our side, please check the spam folder. This is a subscriber only feature Subscribe Now to get daily updates on WhatsApp Start Investing in Stocks, Mutual Funds, IPOs, and more \\n                I\\'m interested in opening a Trading and Demat Account and am comfortable with the online account opening process. I\\'m open to receiving promotional messages through various channels, including calls, emails & SMS.\\n             Start Investing in Stocks, Mutual Funds, IPOs, and more Enter OTP  \\n               I\\'m interested in opening a Trading and Demat Account and am comfortable with the online account opening process. I\\'m open to receiving promotional messages through various channels, including calls, emails & SMS.\\n             The team will get in touch with you shortly'"
      ]
     },
     "execution_count": 47,
     "metadata": {},
     "output_type": "execute_result"
    }
   ],
   "source": [
    "article_text"
   ]
  },
  {
   "cell_type": "code",
   "execution_count": 56,
   "metadata": {},
   "outputs": [],
   "source": [
    "num_words = 100"
   ]
  },
  {
   "cell_type": "code",
   "execution_count": 64,
   "metadata": {},
   "outputs": [
    {
     "name": "stdout",
     "output_type": "stream",
     "text": [
      " Master Master Master Master Master Master Musk so much so master Musk 4 X (X (Master \"G on the Master Mus- the 'X (X (X and a the most (X (the Master 'so far so far so first Master so far so, X (X X X (X (X (X x (x \n",
      " X (X (X (X (X (X (X 4 an X (P ( X (X (X (X\n",
      " X (G the Master so a X (the most of the 'X (X (a series (X (X \"X (X (a new X ( X (x, which X and \"X (X X \"X Musk on X (B C and an \"P \" X 4 the 2 X (a \"X of the Master series, a X and X- X X X 'X to its part On X (about the X X X of the Master \"X more on the \"X, the master ' X \"X (P a \"X has an X X Plan Plans so far, which year X in his X X, the Master Plan X and X the Master Plan and the Master X in a 202 X (X (X on X ("
     ]
    },
    {
     "data": {
      "text/plain": [
       "' Master Master Master Master Master Master Musk so much so master Musk 4 X (X (Master \"G on the Master Mus- the \\'X (X (X and a the most (X (the Master \\'so far so far so first Master so far so, X (X X X (X (X (X x (x \\n X (X (X (X (X (X (X 4 an X (P ( X (X (X (X\\n X (G the Master so a X (the most of the \\'X (X (a series (X (X \"X (X (a new X ( X (x, which X and \"X (X X \"X Musk on X (B C and an \"P \" X 4 the 2 X (a \"X of the Master series, a X and X- X X X \\'X to its part On X (about the X X X of the Master \"X more on the \"X, the master \\' X \"X (P a \"X has an X X Plan Plans so far, which year X in his X X, the Master Plan X and X the Master Plan and the Master X in a 202 X (X (X on X ('"
      ]
     },
     "execution_count": 64,
     "metadata": {},
     "output_type": "execute_result"
    }
   ],
   "source": [
    "llm_chain = prompt | llm\n",
    "question = article_text\n",
    "llm_chain.invoke({\"question\": question})"
   ]
  },
  {
   "cell_type": "code",
   "execution_count": 57,
   "metadata": {},
   "outputs": [],
   "source": [
    "query = f\"\"\"\n",
    "Here are some news headlines:\n",
    "{article_text}\n",
    "\n",
    "Summarize the market from this news data without highlights in {num_words} or less words.\n",
    "\"\"\""
   ]
  },
  {
   "cell_type": "code",
   "execution_count": 48,
   "metadata": {},
   "outputs": [
    {
     "name": "stdout",
     "output_type": "stream",
     "text": [
      " Master 'M most X\n",
      "4 master X (X- X ( X new \"Master on his next so an X (x (the X (X ( X (X and the Master Musk so far so so, first Master X (X (P X ( X (X (X (X (X (X (X (X (X (X (X (X (X and a 4 X (X (X (X (a 'X (X (X an X (X (the most 4 X \"X - the Master plan, X (X (X (X (X ( X ( X ( X and the Master X \"Master X in the Master Musk so X and X X X & \"P X- \"X \"X (X (so far \"X of the Master 'G series g X-g X X X X to his 's last 4 X about \"X \"X, he \"X X on X \"X \"X, a part \"X a Master 'X Musk and a Master 'X P 'on an X and X in his X \"X \"Master of the Master in the Master Plan, which a Master in a \"X (X (x The master and X-P X 'X on"
     ]
    },
    {
     "data": {
      "text/plain": [
       "' Master \\'M most X\\n4 master X (X- X ( X new \"Master on his next so an X (x (the X (X ( X (X and the Master Musk so far so so, first Master X (X (P X ( X (X (X (X (X (X (X (X (X (X (X (X (X and a 4 X (X (X (X (a \\'X (X (X an X (X (the most 4 X \"X - the Master plan, X (X (X (X (X ( X ( X ( X and the Master X \"Master X in the Master Musk so X and X X X & \"P X- \"X \"X (X (so far \"X of the Master \\'G series g X-g X X X X to his \\'s last 4 X about \"X \"X, he \"X X on X \"X \"X, a part \"X a Master \\'X Musk and a Master \\'X P \\'on an X and X in his X \"X \"Master of the Master in the Master Plan, which a Master in a \"X (X (x The master and X-P X \\'X on'"
      ]
     },
     "execution_count": 48,
     "metadata": {},
     "output_type": "execute_result"
    }
   ],
   "source": [
    "llm_chain = prompt | llm\n",
    "question = \"give a summ{question}\"\n",
    "llm_chain.invoke({\"question\": question})"
   ]
  },
  {
   "cell_type": "code",
   "execution_count": 58,
   "metadata": {},
   "outputs": [],
   "source": [
    "llm_chain = prompt | llm"
   ]
  },
  {
   "cell_type": "code",
   "execution_count": 59,
   "metadata": {},
   "outputs": [
    {
     "name": "stdout",
     "output_type": "stream",
     "text": [
      "<one Master [P \n",
      "<</\n",
      "the master AI <</\n",
      "||/MASTER [] (and and a master hiss\n",
      "his masterly an X \n",
      "\n",
      "MASTER < MASTER so far one and Master Master [X (x [t \n",
      "X (in the Master \"X (X\n",
      "\n",
      " \n",
      "the Mastered one X X X (and the Master \n",
      "g\n",
      "4 B (X (he\n",
      "\n",
      " \n",
      "<\\\\</, the\n",
      "a 'the Master X (b <<``his [s IN [[\n",
      "<</you x<|| you clear, X (his master 4 X (in his master and a and an and a \"X X X X X (and he X X X (X X X X X X X X (t</\n",
      "the X X of the Master 202 X X X X X X X X X (l X X X (the X X X X x \n",
      "the X X X X X X X, a \"X (he ' X X X X X Musk's X X X X X X X (and a X X in the Master X X X (X X X X and one X X X X (in X X X x ``X X X X X to one X X X X X X"
     ]
    },
    {
     "data": {
      "text/plain": [
       "'<one Master [P \\n<</\\nthe master AI <</\\n||/MASTER [] (and and a master hiss\\nhis masterly an X \\n\\nMASTER < MASTER so far one and Master Master [X (x [t \\nX (in the Master \"X (X\\n\\n \\nthe Mastered one X X X (and the Master \\ng\\n4 B (X (he\\n\\n \\n<\\\\\\\\</, the\\na \\'the Master X (b <<``his [s IN [[\\n<</you x<|| you clear, X (his master 4 X (in his master and a and an and a \"X X X X X (and he X X X (X X X X X X X X (t</\\nthe X X of the Master 202 X X X X X X X X X (l X X X (the X X X X x \\nthe X X X X X X X, a \"X (he \\' X X X X X Musk\\'s X X X X X X X (and a X X in the Master X X X (X X X X and one X X X X (in X X X x ``X X X X X to one X X X X X X'"
      ]
     },
     "execution_count": 59,
     "metadata": {},
     "output_type": "execute_result"
    }
   ],
   "source": [
    "llm_chain.invoke(query)"
   ]
  },
  {
   "cell_type": "code",
   "execution_count": null,
   "metadata": {},
   "outputs": [],
   "source": [
    "f\"\"\"\n",
    "Here are some news headlines:\n",
    "{article_text}\n",
    "\n",
    "Summarize the market from this news data without highlights in {num_words} or less words.\n",
    "\"\"\""
   ]
  },
  {
   "cell_type": "code",
   "execution_count": null,
   "metadata": {},
   "outputs": [],
   "source": []
  }
 ],
 "metadata": {
  "kernelspec": {
   "display_name": "Python 3",
   "language": "python",
   "name": "python3"
  },
  "language_info": {
   "codemirror_mode": {
    "name": "ipython",
    "version": 3
   },
   "file_extension": ".py",
   "mimetype": "text/x-python",
   "name": "python",
   "nbconvert_exporter": "python",
   "pygments_lexer": "ipython3",
   "version": "3.10.12"
  }
 },
 "nbformat": 4,
 "nbformat_minor": 2
}
