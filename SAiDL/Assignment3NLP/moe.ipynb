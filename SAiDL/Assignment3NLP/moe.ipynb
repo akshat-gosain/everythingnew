{
 "cells": [
  {
   "cell_type": "code",
   "execution_count": 17,
   "metadata": {},
   "outputs": [],
   "source": [
    "# Import necessary libraries\n",
    "import torch\n",
    "import torch.nn as nn\n",
    "from torch.nn import functional as F\n",
    "from torch.autograd import Variable\n",
    "from datasets import load_dataset\n",
    "from transformers import AutoTokenizer\n",
    "import matplotlib.pyplot as plt\n",
    "import numpy as np\n",
    "import os\n",
    "import urllib.request\n",
    "from torch.optim import Adam\n",
    "from torch.utils.data import DataLoader\n",
    "\n",
    "\n",
    "class MoE(nn.Module):\n",
    "    def __init__(self, num_experts, in_features, out_features):\n",
    "        super(MoE, self).__init__()\n",
    "        self.num_experts = num_experts\n",
    "        self.in_features = in_features\n",
    "        self.out_features = out_features\n",
    "\n",
    "        # Define the experts and the gating network\n",
    "        self.experts = nn.ModuleList([nn.Linear(in_features, out_features) for _ in range(self.num_experts)])\n",
    "        self.gating_network = nn.Sequential(\n",
    "            nn.Linear(in_features, self.num_experts),\n",
    "            nn.Linear(self.num_experts, out_features)\n",
    "        )\n",
    "\n",
    "    def forward(self, x):\n",
    "        weights = torch.softmax(self.gating_network(x), dim=1)\n",
    "        return sum(w * expert(x) for w, expert in zip(weights.split(1, dim=1), self.experts))\n",
    "\n",
    "\n",
    "# Define the LSTM with MoE layer model\n",
    "class LSTMwithMoE(nn.Module):\n",
    "    def __init__(self, hidden_dim, output_dim, num_experts):\n",
    "        super(LSTMwithMoE, self).__init__()\n",
    "        self.hidden_dim = hidden_dim\n",
    "\n",
    "        # Define the LSTM layers\n",
    "        self.lstm1 = nn.LSTM(768, hidden_dim)  # 768 is the dimensionality of BERT's hidden states\n",
    "        self.lstm2 = nn.LSTM(hidden_dim, hidden_dim)\n",
    "\n",
    "        # Define the MoE layer\n",
    "        self.moe = MoE(num_experts, hidden_dim, hidden_dim)\n",
    "\n",
    "        # Define the output layer\n",
    "        self.linear = nn.Linear(hidden_dim, output_dim)\n",
    "\n",
    "    def forward(self, x):\n",
    "        lstm_out, _ = self.lstm1(x)\n",
    "        moe_out = self.moe(lstm_out)\n",
    "        lstm_out, _ = self.lstm2(moe_out)\n",
    "        output = self.linear(lstm_out)\n",
    "        return output"
   ]
  },
  {
   "cell_type": "code",
   "execution_count": 78,
   "metadata": {},
   "outputs": [],
   "source": [
    "def load_data(dataset_name):\n",
    "    # Load the dataset\n",
    "    dataset = load_dataset(dataset_name, split='train', download_mode='force_redownload')\n",
    "\n",
    "    # Load the tokenizer\n",
    "    tokenizer = AutoTokenizer.from_pretrained('bert-base-uncased')\n",
    "\n",
    "    # Define the correct key for the labels in your dataset\n",
    "    if dataset_name == 'conll2003':\n",
    "        label_key = 'ner_tags'\n",
    "    elif dataset_name == 'squad':\n",
    "        label_key = 'answers'\n",
    "    else:\n",
    "        raise ValueError(f'Unknown dataset: {dataset_name}')\n",
    "\n",
    "    # Tokenize the dataset\n",
    "    def tokenize_and_encode(examples):\n",
    "        # Replace 'text' with the correct key in your dataset\n",
    "        if dataset_name == 'conll2003':\n",
    "            text_key = 'tokens'\n",
    "            text = [' '.join(tokens) for tokens in examples[text_key]]\n",
    "            labels = [label + [0]*(512-len(label)) for label in examples[label_key]]\n",
    "        elif dataset_name == 'squad':\n",
    "            text_key = 'context'  # or 'question'\n",
    "            text = examples[text_key]\n",
    "            labels = [label['text'][0] + ' '*(512-len(label['text'][0])) for label in examples[label_key]]\n",
    "        return {**tokenizer(text, truncation=True, padding='longest', max_length=512), label_key: labels}\n",
    "\n",
    "    dataset = dataset.map(tokenize_and_encode, batched=True)\n",
    "    dataset.set_format(type='torch', columns=['input_ids', 'attention_mask', label_key])\n",
    "    return dataset\n",
    "\n",
    "\n",
    "# Define the training function\n",
    "def train(model, data, epochs=10, lr=0.001):\n",
    "    model.train()\n",
    "    optimizer = Adam(model.parameters(), lr=lr)\n",
    "    loss_fn = nn.CrossEntropyLoss()\n",
    "\n",
    "    # Create a DataLoader\n",
    "    data_loader = DataLoader(data, batch_size=32)\n",
    "\n",
    "    for epoch in range(epochs):\n",
    "        print(f'Starting epoch {epoch+1}')\n",
    "        epoch_loss = 0\n",
    "        for batch in data_loader:\n",
    "            # Extract the tensors from the batch\n",
    "            input_tensor = batch['input_ids'].float()  # Convert the input tensor to Float\n",
    "            if 'ner_tags' in batch:\n",
    "                target_tensor = batch['ner_tags']\n",
    "            elif 'answers' in batch:\n",
    "                target_tensor = batch['answers']\n",
    "            else:\n",
    "                raise ValueError('Unknown label key in batch')\n",
    "            \n",
    "            optimizer.zero_grad()\n",
    "            output = model(input_tensor)\n",
    "            # Reshape the output and target tensor before calculating the loss\n",
    "            loss = loss_fn(output.view(-1, output.size(-1)), target_tensor.view(-1))\n",
    "            loss.backward()\n",
    "            optimizer.step()\n",
    "            epoch_loss += loss.item()\n",
    "        print(f'Epoch {epoch+1} loss: {epoch_loss/len(data_loader)}')\n",
    "\n"
   ]
  },
  {
   "cell_type": "code",
   "execution_count": 79,
   "metadata": {},
   "outputs": [],
   "source": [
    "def evaluate(model, data):\n",
    "    model.eval()\n",
    "    predictions = []\n",
    "    with torch.no_grad():\n",
    "        for batch in data:\n",
    "            output = model(batch['input_ids'])\n",
    "            predictions.extend(output.argmax(dim=-1).tolist())\n",
    "    return predictions"
   ]
  },
  {
   "cell_type": "code",
   "execution_count": 80,
   "metadata": {},
   "outputs": [
    {
     "name": "stderr",
     "output_type": "stream",
     "text": [
      "Downloading data: 100%|██████████| 1.23M/1.23M [00:00<00:00, 4.31MB/s]\n",
      "Downloading data: 100%|██████████| 312k/312k [00:00<00:00, 1.29MB/s]\n",
      "Downloading data: 100%|██████████| 283k/283k [00:00<00:00, 1.23MB/s]\n"
     ]
    },
    {
     "data": {
      "application/vnd.jupyter.widget-view+json": {
       "model_id": "f34f5c707bde44d798de8fba71ae7551",
       "version_major": 2,
       "version_minor": 0
      },
      "text/plain": [
       "Generating train split:   0%|          | 0/14041 [00:00<?, ? examples/s]"
      ]
     },
     "metadata": {},
     "output_type": "display_data"
    },
    {
     "data": {
      "application/vnd.jupyter.widget-view+json": {
       "model_id": "b7d7e2e78081458cb1822312d0ea5ddf",
       "version_major": 2,
       "version_minor": 0
      },
      "text/plain": [
       "Generating validation split:   0%|          | 0/3250 [00:00<?, ? examples/s]"
      ]
     },
     "metadata": {},
     "output_type": "display_data"
    },
    {
     "data": {
      "application/vnd.jupyter.widget-view+json": {
       "model_id": "9887eadb1a2447df848f9595e05275b3",
       "version_major": 2,
       "version_minor": 0
      },
      "text/plain": [
       "Generating test split:   0%|          | 0/3453 [00:00<?, ? examples/s]"
      ]
     },
     "metadata": {},
     "output_type": "display_data"
    },
    {
     "data": {
      "application/vnd.jupyter.widget-view+json": {
       "model_id": "3059c41558704aae87b24c90b1168241",
       "version_major": 2,
       "version_minor": 0
      },
      "text/plain": [
       "Map:   0%|          | 0/14041 [00:00<?, ? examples/s]"
      ]
     },
     "metadata": {},
     "output_type": "display_data"
    },
    {
     "ename": "ValueError",
     "evalue": "setting an array element with a sequence. The requested array has an inhomogeneous shape after 1 dimensions. The detected shape was (1000,) + inhomogeneous part.",
     "output_type": "error",
     "traceback": [
      "\u001b[0;31m---------------------------------------------------------------------------\u001b[0m",
      "\u001b[0;31mValueError\u001b[0m                                Traceback (most recent call last)",
      "\u001b[1;32m/home/akshat_gosain/SAiDL/Assignment3NLP/moe.ipynb Cell 4\u001b[0m line \u001b[0;36m2\n\u001b[1;32m      <a href='vscode-notebook-cell://wsl%2Bubuntu/home/akshat_gosain/SAiDL/Assignment3NLP/moe.ipynb#W3sdnNjb2RlLXJlbW90ZQ%3D%3D?line=0'>1</a>\u001b[0m \u001b[39m# Load the data\u001b[39;00m\n\u001b[0;32m----> <a href='vscode-notebook-cell://wsl%2Bubuntu/home/akshat_gosain/SAiDL/Assignment3NLP/moe.ipynb#W3sdnNjb2RlLXJlbW90ZQ%3D%3D?line=1'>2</a>\u001b[0m data_conll2003 \u001b[39m=\u001b[39m load_data(\u001b[39m'\u001b[39;49m\u001b[39mconll2003\u001b[39;49m\u001b[39m'\u001b[39;49m)\n\u001b[1;32m      <a href='vscode-notebook-cell://wsl%2Bubuntu/home/akshat_gosain/SAiDL/Assignment3NLP/moe.ipynb#W3sdnNjb2RlLXJlbW90ZQ%3D%3D?line=2'>3</a>\u001b[0m data_squad \u001b[39m=\u001b[39m load_data(\u001b[39m'\u001b[39m\u001b[39msquad\u001b[39m\u001b[39m'\u001b[39m)\n\u001b[1;32m      <a href='vscode-notebook-cell://wsl%2Bubuntu/home/akshat_gosain/SAiDL/Assignment3NLP/moe.ipynb#W3sdnNjb2RlLXJlbW90ZQ%3D%3D?line=4'>5</a>\u001b[0m \u001b[39m# Initialize the model\u001b[39;00m\n",
      "\u001b[1;32m/home/akshat_gosain/SAiDL/Assignment3NLP/moe.ipynb Cell 4\u001b[0m line \u001b[0;36m5\n\u001b[1;32m     <a href='vscode-notebook-cell://wsl%2Bubuntu/home/akshat_gosain/SAiDL/Assignment3NLP/moe.ipynb#W3sdnNjb2RlLXJlbW90ZQ%3D%3D?line=47'>48</a>\u001b[0m     \u001b[39mreturn\u001b[39;00m {\u001b[39m'\u001b[39m\u001b[39mtext\u001b[39m\u001b[39m'\u001b[39m: text, label_key: labels}\n\u001b[1;32m     <a href='vscode-notebook-cell://wsl%2Bubuntu/home/akshat_gosain/SAiDL/Assignment3NLP/moe.ipynb#W3sdnNjb2RlLXJlbW90ZQ%3D%3D?line=50'>51</a>\u001b[0m \u001b[39m# Apply label modification function using `map` with `batched=True`\u001b[39;00m\n\u001b[0;32m---> <a href='vscode-notebook-cell://wsl%2Bubuntu/home/akshat_gosain/SAiDL/Assignment3NLP/moe.ipynb#W3sdnNjb2RlLXJlbW90ZQ%3D%3D?line=51'>52</a>\u001b[0m dataset \u001b[39m=\u001b[39m dataset\u001b[39m.\u001b[39;49mmap(modify_labels, batched\u001b[39m=\u001b[39;49m\u001b[39mTrue\u001b[39;49;00m)\n\u001b[1;32m     <a href='vscode-notebook-cell://wsl%2Bubuntu/home/akshat_gosain/SAiDL/Assignment3NLP/moe.ipynb#W3sdnNjb2RlLXJlbW90ZQ%3D%3D?line=53'>54</a>\u001b[0m \u001b[39m# Tokenize the dataset\u001b[39;00m\n\u001b[1;32m     <a href='vscode-notebook-cell://wsl%2Bubuntu/home/akshat_gosain/SAiDL/Assignment3NLP/moe.ipynb#W3sdnNjb2RlLXJlbW90ZQ%3D%3D?line=54'>55</a>\u001b[0m \u001b[39mdef\u001b[39;00m \u001b[39mtokenize_and_encode\u001b[39m(examples):\n\u001b[1;32m     <a href='vscode-notebook-cell://wsl%2Bubuntu/home/akshat_gosain/SAiDL/Assignment3NLP/moe.ipynb#W3sdnNjb2RlLXJlbW90ZQ%3D%3D?line=55'>56</a>\u001b[0m     \u001b[39m# Replace 'text' with the correct key in your dataset\u001b[39;00m\n",
      "File \u001b[0;32m~/.local/lib/python3.10/site-packages/datasets/arrow_dataset.py:593\u001b[0m, in \u001b[0;36mtransmit_tasks.<locals>.wrapper\u001b[0;34m(*args, **kwargs)\u001b[0m\n\u001b[1;32m    591\u001b[0m     \u001b[39mself\u001b[39m: \u001b[39m\"\u001b[39m\u001b[39mDataset\u001b[39m\u001b[39m\"\u001b[39m \u001b[39m=\u001b[39m kwargs\u001b[39m.\u001b[39mpop(\u001b[39m\"\u001b[39m\u001b[39mself\u001b[39m\u001b[39m\"\u001b[39m)\n\u001b[1;32m    592\u001b[0m \u001b[39m# apply actual function\u001b[39;00m\n\u001b[0;32m--> 593\u001b[0m out: Union[\u001b[39m\"\u001b[39m\u001b[39mDataset\u001b[39m\u001b[39m\"\u001b[39m, \u001b[39m\"\u001b[39m\u001b[39mDatasetDict\u001b[39m\u001b[39m\"\u001b[39m] \u001b[39m=\u001b[39m func(\u001b[39mself\u001b[39;49m, \u001b[39m*\u001b[39;49margs, \u001b[39m*\u001b[39;49m\u001b[39m*\u001b[39;49mkwargs)\n\u001b[1;32m    594\u001b[0m datasets: List[\u001b[39m\"\u001b[39m\u001b[39mDataset\u001b[39m\u001b[39m\"\u001b[39m] \u001b[39m=\u001b[39m \u001b[39mlist\u001b[39m(out\u001b[39m.\u001b[39mvalues()) \u001b[39mif\u001b[39;00m \u001b[39misinstance\u001b[39m(out, \u001b[39mdict\u001b[39m) \u001b[39melse\u001b[39;00m [out]\n\u001b[1;32m    595\u001b[0m \u001b[39mfor\u001b[39;00m dataset \u001b[39min\u001b[39;00m datasets:\n\u001b[1;32m    596\u001b[0m     \u001b[39m# Remove task templates if a column mapping of the template is no longer valid\u001b[39;00m\n",
      "File \u001b[0;32m~/.local/lib/python3.10/site-packages/datasets/arrow_dataset.py:558\u001b[0m, in \u001b[0;36mtransmit_format.<locals>.wrapper\u001b[0;34m(*args, **kwargs)\u001b[0m\n\u001b[1;32m    551\u001b[0m self_format \u001b[39m=\u001b[39m {\n\u001b[1;32m    552\u001b[0m     \u001b[39m\"\u001b[39m\u001b[39mtype\u001b[39m\u001b[39m\"\u001b[39m: \u001b[39mself\u001b[39m\u001b[39m.\u001b[39m_format_type,\n\u001b[1;32m    553\u001b[0m     \u001b[39m\"\u001b[39m\u001b[39mformat_kwargs\u001b[39m\u001b[39m\"\u001b[39m: \u001b[39mself\u001b[39m\u001b[39m.\u001b[39m_format_kwargs,\n\u001b[1;32m    554\u001b[0m     \u001b[39m\"\u001b[39m\u001b[39mcolumns\u001b[39m\u001b[39m\"\u001b[39m: \u001b[39mself\u001b[39m\u001b[39m.\u001b[39m_format_columns,\n\u001b[1;32m    555\u001b[0m     \u001b[39m\"\u001b[39m\u001b[39moutput_all_columns\u001b[39m\u001b[39m\"\u001b[39m: \u001b[39mself\u001b[39m\u001b[39m.\u001b[39m_output_all_columns,\n\u001b[1;32m    556\u001b[0m }\n\u001b[1;32m    557\u001b[0m \u001b[39m# apply actual function\u001b[39;00m\n\u001b[0;32m--> 558\u001b[0m out: Union[\u001b[39m\"\u001b[39m\u001b[39mDataset\u001b[39m\u001b[39m\"\u001b[39m, \u001b[39m\"\u001b[39m\u001b[39mDatasetDict\u001b[39m\u001b[39m\"\u001b[39m] \u001b[39m=\u001b[39m func(\u001b[39mself\u001b[39;49m, \u001b[39m*\u001b[39;49margs, \u001b[39m*\u001b[39;49m\u001b[39m*\u001b[39;49mkwargs)\n\u001b[1;32m    559\u001b[0m datasets: List[\u001b[39m\"\u001b[39m\u001b[39mDataset\u001b[39m\u001b[39m\"\u001b[39m] \u001b[39m=\u001b[39m \u001b[39mlist\u001b[39m(out\u001b[39m.\u001b[39mvalues()) \u001b[39mif\u001b[39;00m \u001b[39misinstance\u001b[39m(out, \u001b[39mdict\u001b[39m) \u001b[39melse\u001b[39;00m [out]\n\u001b[1;32m    560\u001b[0m \u001b[39m# re-apply format to the output\u001b[39;00m\n",
      "File \u001b[0;32m~/.local/lib/python3.10/site-packages/datasets/arrow_dataset.py:3105\u001b[0m, in \u001b[0;36mDataset.map\u001b[0;34m(self, function, with_indices, with_rank, input_columns, batched, batch_size, drop_last_batch, remove_columns, keep_in_memory, load_from_cache_file, cache_file_name, writer_batch_size, features, disable_nullable, fn_kwargs, num_proc, suffix_template, new_fingerprint, desc)\u001b[0m\n\u001b[1;32m   3099\u001b[0m \u001b[39mif\u001b[39;00m transformed_dataset \u001b[39mis\u001b[39;00m \u001b[39mNone\u001b[39;00m:\n\u001b[1;32m   3100\u001b[0m     \u001b[39mwith\u001b[39;00m hf_tqdm(\n\u001b[1;32m   3101\u001b[0m         unit\u001b[39m=\u001b[39m\u001b[39m\"\u001b[39m\u001b[39m examples\u001b[39m\u001b[39m\"\u001b[39m,\n\u001b[1;32m   3102\u001b[0m         total\u001b[39m=\u001b[39mpbar_total,\n\u001b[1;32m   3103\u001b[0m         desc\u001b[39m=\u001b[39mdesc \u001b[39mor\u001b[39;00m \u001b[39m\"\u001b[39m\u001b[39mMap\u001b[39m\u001b[39m\"\u001b[39m,\n\u001b[1;32m   3104\u001b[0m     ) \u001b[39mas\u001b[39;00m pbar:\n\u001b[0;32m-> 3105\u001b[0m         \u001b[39mfor\u001b[39;00m rank, done, content \u001b[39min\u001b[39;00m Dataset\u001b[39m.\u001b[39m_map_single(\u001b[39m*\u001b[39m\u001b[39m*\u001b[39mdataset_kwargs):\n\u001b[1;32m   3106\u001b[0m             \u001b[39mif\u001b[39;00m done:\n\u001b[1;32m   3107\u001b[0m                 shards_done \u001b[39m+\u001b[39m\u001b[39m=\u001b[39m \u001b[39m1\u001b[39m\n",
      "File \u001b[0;32m~/.local/lib/python3.10/site-packages/datasets/arrow_dataset.py:3482\u001b[0m, in \u001b[0;36mDataset._map_single\u001b[0;34m(shard, function, with_indices, with_rank, input_columns, batched, batch_size, drop_last_batch, remove_columns, keep_in_memory, cache_file_name, writer_batch_size, features, disable_nullable, fn_kwargs, new_fingerprint, rank, offset)\u001b[0m\n\u001b[1;32m   3478\u001b[0m indices \u001b[39m=\u001b[39m \u001b[39mlist\u001b[39m(\n\u001b[1;32m   3479\u001b[0m     \u001b[39mrange\u001b[39m(\u001b[39m*\u001b[39m(\u001b[39mslice\u001b[39m(i, i \u001b[39m+\u001b[39m batch_size)\u001b[39m.\u001b[39mindices(shard\u001b[39m.\u001b[39mnum_rows)))\n\u001b[1;32m   3480\u001b[0m )  \u001b[39m# Something simpler?\u001b[39;00m\n\u001b[1;32m   3481\u001b[0m \u001b[39mtry\u001b[39;00m:\n\u001b[0;32m-> 3482\u001b[0m     batch \u001b[39m=\u001b[39m apply_function_on_filtered_inputs(\n\u001b[1;32m   3483\u001b[0m         batch,\n\u001b[1;32m   3484\u001b[0m         indices,\n\u001b[1;32m   3485\u001b[0m         check_same_num_examples\u001b[39m=\u001b[39;49m\u001b[39mlen\u001b[39;49m(shard\u001b[39m.\u001b[39;49mlist_indexes()) \u001b[39m>\u001b[39;49m \u001b[39m0\u001b[39;49m,\n\u001b[1;32m   3486\u001b[0m         offset\u001b[39m=\u001b[39;49moffset,\n\u001b[1;32m   3487\u001b[0m     )\n\u001b[1;32m   3488\u001b[0m \u001b[39mexcept\u001b[39;00m NumExamplesMismatchError:\n\u001b[1;32m   3489\u001b[0m     \u001b[39mraise\u001b[39;00m DatasetTransformationNotAllowedError(\n\u001b[1;32m   3490\u001b[0m         \u001b[39m\"\u001b[39m\u001b[39mUsing `.map` in batched mode on a dataset with attached indexes is allowed only if it doesn\u001b[39m\u001b[39m'\u001b[39m\u001b[39mt create or remove existing examples. You can first run `.drop_index() to remove your index and then re-add it.\u001b[39m\u001b[39m\"\u001b[39m\n\u001b[1;32m   3491\u001b[0m     ) \u001b[39mfrom\u001b[39;00m \u001b[39mNone\u001b[39;00m\n",
      "File \u001b[0;32m~/.local/lib/python3.10/site-packages/datasets/arrow_dataset.py:3361\u001b[0m, in \u001b[0;36mDataset._map_single.<locals>.apply_function_on_filtered_inputs\u001b[0;34m(pa_inputs, indices, check_same_num_examples, offset)\u001b[0m\n\u001b[1;32m   3359\u001b[0m \u001b[39mif\u001b[39;00m with_rank:\n\u001b[1;32m   3360\u001b[0m     additional_args \u001b[39m+\u001b[39m\u001b[39m=\u001b[39m (rank,)\n\u001b[0;32m-> 3361\u001b[0m processed_inputs \u001b[39m=\u001b[39m function(\u001b[39m*\u001b[39;49mfn_args, \u001b[39m*\u001b[39;49madditional_args, \u001b[39m*\u001b[39;49m\u001b[39m*\u001b[39;49mfn_kwargs)\n\u001b[1;32m   3362\u001b[0m \u001b[39mif\u001b[39;00m \u001b[39misinstance\u001b[39m(processed_inputs, LazyDict):\n\u001b[1;32m   3363\u001b[0m     processed_inputs \u001b[39m=\u001b[39m {\n\u001b[1;32m   3364\u001b[0m         k: v \u001b[39mfor\u001b[39;00m k, v \u001b[39min\u001b[39;00m processed_inputs\u001b[39m.\u001b[39mdata\u001b[39m.\u001b[39mitems() \u001b[39mif\u001b[39;00m k \u001b[39mnot\u001b[39;00m \u001b[39min\u001b[39;00m processed_inputs\u001b[39m.\u001b[39mkeys_to_format\n\u001b[1;32m   3365\u001b[0m     }\n",
      "\u001b[1;32m/home/akshat_gosain/SAiDL/Assignment3NLP/moe.ipynb Cell 4\u001b[0m line \u001b[0;36m4\n\u001b[1;32m     <a href='vscode-notebook-cell://wsl%2Bubuntu/home/akshat_gosain/SAiDL/Assignment3NLP/moe.ipynb#W3sdnNjb2RlLXJlbW90ZQ%3D%3D?line=43'>44</a>\u001b[0m labels \u001b[39m=\u001b[39m [label \u001b[39m+\u001b[39m [\u001b[39m0\u001b[39m] \u001b[39m*\u001b[39m (expected_label_length \u001b[39m-\u001b[39m \u001b[39mlen\u001b[39m(label)) \u001b[39mfor\u001b[39;00m label \u001b[39min\u001b[39;00m labels]\n\u001b[1;32m     <a href='vscode-notebook-cell://wsl%2Bubuntu/home/akshat_gosain/SAiDL/Assignment3NLP/moe.ipynb#W3sdnNjb2RlLXJlbW90ZQ%3D%3D?line=44'>45</a>\u001b[0m \u001b[39m# Ensure consistent type (e.g., float for BCEWithLogitsLoss)\u001b[39;00m\n\u001b[0;32m---> <a href='vscode-notebook-cell://wsl%2Bubuntu/home/akshat_gosain/SAiDL/Assignment3NLP/moe.ipynb#W3sdnNjb2RlLXJlbW90ZQ%3D%3D?line=45'>46</a>\u001b[0m labels \u001b[39m=\u001b[39m np\u001b[39m.\u001b[39;49masarray(labels, dtype\u001b[39m=\u001b[39;49m\u001b[39mfloat\u001b[39;49m)\n\u001b[1;32m     <a href='vscode-notebook-cell://wsl%2Bubuntu/home/akshat_gosain/SAiDL/Assignment3NLP/moe.ipynb#W3sdnNjb2RlLXJlbW90ZQ%3D%3D?line=47'>48</a>\u001b[0m \u001b[39mreturn\u001b[39;00m {\u001b[39m'\u001b[39m\u001b[39mtext\u001b[39m\u001b[39m'\u001b[39m: text, label_key: labels}\n",
      "\u001b[0;31mValueError\u001b[0m: setting an array element with a sequence. The requested array has an inhomogeneous shape after 1 dimensions. The detected shape was (1000,) + inhomogeneous part."
     ]
    }
   ],
   "source": [
    "\n",
    "# Load the data\n",
    "data_conll2003 = load_data('conll2003')\n",
    "data_squad = load_data('squad')\n",
    "\n",
    "# Initialize the model\n",
    "num_labels_conll2003 = 9  # Replace with the number of unique labels in the 'conll2003' dataset\n",
    "num_labels_squad = 2  # Replace with the number of unique labels in the 'squad' dataset\n",
    "model_conll2003 = LSTMwithMoE(hidden_dim=100, output_dim=num_labels_conll2003, num_experts=10)\n",
    "model_squad = LSTMwithMoE(hidden_dim=100, output_dim=num_labels_squad, num_experts=10)\n"
   ]
  },
  {
   "cell_type": "code",
   "execution_count": 40,
   "metadata": {},
   "outputs": [
    {
     "name": "stdout",
     "output_type": "stream",
     "text": [
      "Training on CoNLL-2003\n",
      "Starting epoch 1\n"
     ]
    },
    {
     "ename": "ValueError",
     "evalue": "Target size (torch.Size([32, 512])) must be the same as input size (torch.Size([32, 9]))",
     "output_type": "error",
     "traceback": [
      "\u001b[0;31m---------------------------------------------------------------------------\u001b[0m",
      "\u001b[0;31mValueError\u001b[0m                                Traceback (most recent call last)",
      "\u001b[1;32m/home/akshat_gosain/SAiDL/Assignment3NLP/moe.ipynb Cell 5\u001b[0m line \u001b[0;36m3\n\u001b[1;32m      <a href='vscode-notebook-cell://wsl%2Bubuntu/home/akshat_gosain/SAiDL/Assignment3NLP/moe.ipynb#W4sdnNjb2RlLXJlbW90ZQ%3D%3D?line=0'>1</a>\u001b[0m \u001b[39m# Train and evaluate the model on each dataset\u001b[39;00m\n\u001b[1;32m      <a href='vscode-notebook-cell://wsl%2Bubuntu/home/akshat_gosain/SAiDL/Assignment3NLP/moe.ipynb#W4sdnNjb2RlLXJlbW90ZQ%3D%3D?line=1'>2</a>\u001b[0m \u001b[39mprint\u001b[39m(\u001b[39m'\u001b[39m\u001b[39mTraining on CoNLL-2003\u001b[39m\u001b[39m'\u001b[39m)\n\u001b[0;32m----> <a href='vscode-notebook-cell://wsl%2Bubuntu/home/akshat_gosain/SAiDL/Assignment3NLP/moe.ipynb#W4sdnNjb2RlLXJlbW90ZQ%3D%3D?line=2'>3</a>\u001b[0m train(model_conll2003, data_conll2003)\n\u001b[1;32m      <a href='vscode-notebook-cell://wsl%2Bubuntu/home/akshat_gosain/SAiDL/Assignment3NLP/moe.ipynb#W4sdnNjb2RlLXJlbW90ZQ%3D%3D?line=3'>4</a>\u001b[0m \u001b[39mprint\u001b[39m(\u001b[39m'\u001b[39m\u001b[39mEvaluating on CoNLL-2003\u001b[39m\u001b[39m'\u001b[39m)\n\u001b[1;32m      <a href='vscode-notebook-cell://wsl%2Bubuntu/home/akshat_gosain/SAiDL/Assignment3NLP/moe.ipynb#W4sdnNjb2RlLXJlbW90ZQ%3D%3D?line=4'>5</a>\u001b[0m f1, precision, recall \u001b[39m=\u001b[39m evaluate(model_conll2003, data_conll2003)\n",
      "\u001b[1;32m/home/akshat_gosain/SAiDL/Assignment3NLP/moe.ipynb Cell 5\u001b[0m line \u001b[0;36m6\n\u001b[1;32m     <a href='vscode-notebook-cell://wsl%2Bubuntu/home/akshat_gosain/SAiDL/Assignment3NLP/moe.ipynb#W4sdnNjb2RlLXJlbW90ZQ%3D%3D?line=59'>60</a>\u001b[0m output \u001b[39m=\u001b[39m model(input_tensor)\n\u001b[1;32m     <a href='vscode-notebook-cell://wsl%2Bubuntu/home/akshat_gosain/SAiDL/Assignment3NLP/moe.ipynb#W4sdnNjb2RlLXJlbW90ZQ%3D%3D?line=60'>61</a>\u001b[0m \u001b[39m# Calculate the loss\u001b[39;00m\n\u001b[0;32m---> <a href='vscode-notebook-cell://wsl%2Bubuntu/home/akshat_gosain/SAiDL/Assignment3NLP/moe.ipynb#W4sdnNjb2RlLXJlbW90ZQ%3D%3D?line=61'>62</a>\u001b[0m loss \u001b[39m=\u001b[39m loss_fn(output, target_tensor)\n\u001b[1;32m     <a href='vscode-notebook-cell://wsl%2Bubuntu/home/akshat_gosain/SAiDL/Assignment3NLP/moe.ipynb#W4sdnNjb2RlLXJlbW90ZQ%3D%3D?line=62'>63</a>\u001b[0m loss\u001b[39m.\u001b[39mbackward()\n\u001b[1;32m     <a href='vscode-notebook-cell://wsl%2Bubuntu/home/akshat_gosain/SAiDL/Assignment3NLP/moe.ipynb#W4sdnNjb2RlLXJlbW90ZQ%3D%3D?line=63'>64</a>\u001b[0m optimizer\u001b[39m.\u001b[39mstep()\n",
      "File \u001b[0;32m~/.local/lib/python3.10/site-packages/torch/nn/modules/module.py:1511\u001b[0m, in \u001b[0;36mModule._wrapped_call_impl\u001b[0;34m(self, *args, **kwargs)\u001b[0m\n\u001b[1;32m   1509\u001b[0m     \u001b[39mreturn\u001b[39;00m \u001b[39mself\u001b[39m\u001b[39m.\u001b[39m_compiled_call_impl(\u001b[39m*\u001b[39margs, \u001b[39m*\u001b[39m\u001b[39m*\u001b[39mkwargs)  \u001b[39m# type: ignore[misc]\u001b[39;00m\n\u001b[1;32m   1510\u001b[0m \u001b[39melse\u001b[39;00m:\n\u001b[0;32m-> 1511\u001b[0m     \u001b[39mreturn\u001b[39;00m \u001b[39mself\u001b[39;49m\u001b[39m.\u001b[39;49m_call_impl(\u001b[39m*\u001b[39;49margs, \u001b[39m*\u001b[39;49m\u001b[39m*\u001b[39;49mkwargs)\n",
      "File \u001b[0;32m~/.local/lib/python3.10/site-packages/torch/nn/modules/module.py:1520\u001b[0m, in \u001b[0;36mModule._call_impl\u001b[0;34m(self, *args, **kwargs)\u001b[0m\n\u001b[1;32m   1515\u001b[0m \u001b[39m# If we don't have any hooks, we want to skip the rest of the logic in\u001b[39;00m\n\u001b[1;32m   1516\u001b[0m \u001b[39m# this function, and just call forward.\u001b[39;00m\n\u001b[1;32m   1517\u001b[0m \u001b[39mif\u001b[39;00m \u001b[39mnot\u001b[39;00m (\u001b[39mself\u001b[39m\u001b[39m.\u001b[39m_backward_hooks \u001b[39mor\u001b[39;00m \u001b[39mself\u001b[39m\u001b[39m.\u001b[39m_backward_pre_hooks \u001b[39mor\u001b[39;00m \u001b[39mself\u001b[39m\u001b[39m.\u001b[39m_forward_hooks \u001b[39mor\u001b[39;00m \u001b[39mself\u001b[39m\u001b[39m.\u001b[39m_forward_pre_hooks\n\u001b[1;32m   1518\u001b[0m         \u001b[39mor\u001b[39;00m _global_backward_pre_hooks \u001b[39mor\u001b[39;00m _global_backward_hooks\n\u001b[1;32m   1519\u001b[0m         \u001b[39mor\u001b[39;00m _global_forward_hooks \u001b[39mor\u001b[39;00m _global_forward_pre_hooks):\n\u001b[0;32m-> 1520\u001b[0m     \u001b[39mreturn\u001b[39;00m forward_call(\u001b[39m*\u001b[39;49margs, \u001b[39m*\u001b[39;49m\u001b[39m*\u001b[39;49mkwargs)\n\u001b[1;32m   1522\u001b[0m \u001b[39mtry\u001b[39;00m:\n\u001b[1;32m   1523\u001b[0m     result \u001b[39m=\u001b[39m \u001b[39mNone\u001b[39;00m\n",
      "File \u001b[0;32m~/.local/lib/python3.10/site-packages/torch/nn/modules/loss.py:725\u001b[0m, in \u001b[0;36mBCEWithLogitsLoss.forward\u001b[0;34m(self, input, target)\u001b[0m\n\u001b[1;32m    724\u001b[0m \u001b[39mdef\u001b[39;00m \u001b[39mforward\u001b[39m(\u001b[39mself\u001b[39m, \u001b[39minput\u001b[39m: Tensor, target: Tensor) \u001b[39m-\u001b[39m\u001b[39m>\u001b[39m Tensor:\n\u001b[0;32m--> 725\u001b[0m     \u001b[39mreturn\u001b[39;00m F\u001b[39m.\u001b[39;49mbinary_cross_entropy_with_logits(\u001b[39minput\u001b[39;49m, target,\n\u001b[1;32m    726\u001b[0m                                               \u001b[39mself\u001b[39;49m\u001b[39m.\u001b[39;49mweight,\n\u001b[1;32m    727\u001b[0m                                               pos_weight\u001b[39m=\u001b[39;49m\u001b[39mself\u001b[39;49m\u001b[39m.\u001b[39;49mpos_weight,\n\u001b[1;32m    728\u001b[0m                                               reduction\u001b[39m=\u001b[39;49m\u001b[39mself\u001b[39;49m\u001b[39m.\u001b[39;49mreduction)\n",
      "File \u001b[0;32m~/.local/lib/python3.10/site-packages/torch/nn/functional.py:3197\u001b[0m, in \u001b[0;36mbinary_cross_entropy_with_logits\u001b[0;34m(input, target, weight, size_average, reduce, reduction, pos_weight)\u001b[0m\n\u001b[1;32m   3194\u001b[0m     reduction_enum \u001b[39m=\u001b[39m _Reduction\u001b[39m.\u001b[39mget_enum(reduction)\n\u001b[1;32m   3196\u001b[0m \u001b[39mif\u001b[39;00m \u001b[39mnot\u001b[39;00m (target\u001b[39m.\u001b[39msize() \u001b[39m==\u001b[39m \u001b[39minput\u001b[39m\u001b[39m.\u001b[39msize()):\n\u001b[0;32m-> 3197\u001b[0m     \u001b[39mraise\u001b[39;00m \u001b[39mValueError\u001b[39;00m(\u001b[39mf\u001b[39m\u001b[39m\"\u001b[39m\u001b[39mTarget size (\u001b[39m\u001b[39m{\u001b[39;00mtarget\u001b[39m.\u001b[39msize()\u001b[39m}\u001b[39;00m\u001b[39m) must be the same as input size (\u001b[39m\u001b[39m{\u001b[39;00m\u001b[39minput\u001b[39m\u001b[39m.\u001b[39msize()\u001b[39m}\u001b[39;00m\u001b[39m)\u001b[39m\u001b[39m\"\u001b[39m)\n\u001b[1;32m   3199\u001b[0m \u001b[39mreturn\u001b[39;00m torch\u001b[39m.\u001b[39mbinary_cross_entropy_with_logits(\u001b[39minput\u001b[39m, target, weight, pos_weight, reduction_enum)\n",
      "\u001b[0;31mValueError\u001b[0m: Target size (torch.Size([32, 512])) must be the same as input size (torch.Size([32, 9]))"
     ]
    }
   ],
   "source": [
    "# Train and evaluate the model on each dataset\n",
    "print('Training on CoNLL-2003')\n",
    "train(model_conll2003, data_conll2003)\n",
    "print('Evaluating on CoNLL-2003')\n",
    "f1, precision, recall = evaluate(model_conll2003, data_conll2003)\n",
    "print(f\"F1 Score on CoNLL-2003: {f1}\")\n",
    "print(f\"Precision on CoNLL-2003: {precision}\")\n",
    "print(f\"Recall on CoNLL-2003: {recall}\")\n",
    "print('Training on SQuAD 1.1')\n",
    "train(model_squad, data_squad)\n",
    "print('Evaluating on SQuAD 1.1')\n",
    "f1, precision, recall = evaluate(model_squad, data_squad)\n",
    "print(f\"F1 Score on SQuAD 1.1: {f1}\")\n",
    "print(f\"Precision on SQuAD 1.1: {precision}\")\n",
    "print(f\"Recall on SQuAD 1.1: {recall}\")\n"
   ]
  },
  {
   "cell_type": "code",
   "execution_count": 25,
   "metadata": {},
   "outputs": [
    {
     "name": "stdout",
     "output_type": "stream",
     "text": [
      "Training on conll2003\n",
      "dict_keys(['text', 'input_ids', 'attention_mask'])\n",
      "Starting epoch 1\n"
     ]
    },
    {
     "ename": "KeyError",
     "evalue": "'labels'",
     "output_type": "error",
     "traceback": [
      "\u001b[0;31m---------------------------------------------------------------------------\u001b[0m",
      "\u001b[0;31mKeyError\u001b[0m                                  Traceback (most recent call last)",
      "\u001b[1;32m/home/akshat_gosain/SAiDL/Assignment3NLP/moe.ipynb Cell 2\u001b[0m line \u001b[0;36m4\n\u001b[1;32m     <a href='vscode-notebook-cell://wsl%2Bubuntu/home/akshat_gosain/SAiDL/Assignment3NLP/moe.ipynb#W1sdnNjb2RlLXJlbW90ZQ%3D%3D?line=40'>41</a>\u001b[0m \u001b[39m# Print the keys in the first item of the dataset\u001b[39;00m\n\u001b[1;32m     <a href='vscode-notebook-cell://wsl%2Bubuntu/home/akshat_gosain/SAiDL/Assignment3NLP/moe.ipynb#W1sdnNjb2RlLXJlbW90ZQ%3D%3D?line=41'>42</a>\u001b[0m \u001b[39mprint\u001b[39m(dataset[\u001b[39m'\u001b[39m\u001b[39mtrain\u001b[39m\u001b[39m'\u001b[39m][\u001b[39m0\u001b[39m]\u001b[39m.\u001b[39mkeys())\n\u001b[0;32m---> <a href='vscode-notebook-cell://wsl%2Bubuntu/home/akshat_gosain/SAiDL/Assignment3NLP/moe.ipynb#W1sdnNjb2RlLXJlbW90ZQ%3D%3D?line=43'>44</a>\u001b[0m train(model, dataset)\n\u001b[1;32m     <a href='vscode-notebook-cell://wsl%2Bubuntu/home/akshat_gosain/SAiDL/Assignment3NLP/moe.ipynb#W1sdnNjb2RlLXJlbW90ZQ%3D%3D?line=44'>45</a>\u001b[0m \u001b[39mprint\u001b[39m(\u001b[39mf\u001b[39m\u001b[39m'\u001b[39m\u001b[39mEvaluating on \u001b[39m\u001b[39m{\u001b[39;00mname\u001b[39m}\u001b[39;00m\u001b[39m'\u001b[39m)\n\u001b[1;32m     <a href='vscode-notebook-cell://wsl%2Bubuntu/home/akshat_gosain/SAiDL/Assignment3NLP/moe.ipynb#W1sdnNjb2RlLXJlbW90ZQ%3D%3D?line=45'>46</a>\u001b[0m predictions \u001b[39m=\u001b[39m evaluate(model, dataset)\n",
      "\u001b[1;32m/home/akshat_gosain/SAiDL/Assignment3NLP/moe.ipynb Cell 2\u001b[0m line \u001b[0;36m5\n\u001b[1;32m     <a href='vscode-notebook-cell://wsl%2Bubuntu/home/akshat_gosain/SAiDL/Assignment3NLP/moe.ipynb#W1sdnNjb2RlLXJlbW90ZQ%3D%3D?line=47'>48</a>\u001b[0m \u001b[39mfor\u001b[39;00m batch \u001b[39min\u001b[39;00m data_loader:\n\u001b[1;32m     <a href='vscode-notebook-cell://wsl%2Bubuntu/home/akshat_gosain/SAiDL/Assignment3NLP/moe.ipynb#W1sdnNjb2RlLXJlbW90ZQ%3D%3D?line=48'>49</a>\u001b[0m     \u001b[39m# Extract the tensors from the batch\u001b[39;00m\n\u001b[1;32m     <a href='vscode-notebook-cell://wsl%2Bubuntu/home/akshat_gosain/SAiDL/Assignment3NLP/moe.ipynb#W1sdnNjb2RlLXJlbW90ZQ%3D%3D?line=49'>50</a>\u001b[0m     input_tensor \u001b[39m=\u001b[39m batch[\u001b[39m'\u001b[39m\u001b[39minput_ids\u001b[39m\u001b[39m'\u001b[39m]\n\u001b[0;32m---> <a href='vscode-notebook-cell://wsl%2Bubuntu/home/akshat_gosain/SAiDL/Assignment3NLP/moe.ipynb#W1sdnNjb2RlLXJlbW90ZQ%3D%3D?line=50'>51</a>\u001b[0m     target_tensor \u001b[39m=\u001b[39m batch[\u001b[39m'\u001b[39;49m\u001b[39mlabels\u001b[39;49m\u001b[39m'\u001b[39;49m]\n\u001b[1;32m     <a href='vscode-notebook-cell://wsl%2Bubuntu/home/akshat_gosain/SAiDL/Assignment3NLP/moe.ipynb#W1sdnNjb2RlLXJlbW90ZQ%3D%3D?line=52'>53</a>\u001b[0m     optimizer\u001b[39m.\u001b[39mzero_grad()\n\u001b[1;32m     <a href='vscode-notebook-cell://wsl%2Bubuntu/home/akshat_gosain/SAiDL/Assignment3NLP/moe.ipynb#W1sdnNjb2RlLXJlbW90ZQ%3D%3D?line=53'>54</a>\u001b[0m     output \u001b[39m=\u001b[39m model(input_tensor)\n",
      "\u001b[0;31mKeyError\u001b[0m: 'labels'"
     ]
    }
   ],
   "source": [
    "# URLs for the datasets\n",
    "datasets = {\n",
    "    'conll2003': 'https://raw.githubusercontent.com/synalp/NER/master/corpus/CoNLL-2003/eng.train',\n",
    "    'squad1.1': 'https://rajpurkar.github.io/SQuAD-explorer/dataset/train-v1.1.json'\n",
    "}\n",
    "\n",
    "# Specify the model name\n",
    "model_name = 'distilbert-base-uncased'\n",
    "\n",
    "# Load the tokenizer\n",
    "tokenizer = AutoTokenizer.from_pretrained(model_name)\n",
    "\n",
    "# Define the data downloading function\n",
    "def download_data(url, filename):\n",
    "    if not os.path.exists(filename):\n",
    "        urllib.request.urlretrieve(url, filename)\n",
    "    return filename  # Add this line\n",
    "\n",
    "# Define the data loading function\n",
    "def load_data(dataset_path):\n",
    "    # Load the dataset\n",
    "    dataset = load_dataset('text', data_files=dataset_path)\n",
    "\n",
    "    # Tokenize the dataset\n",
    "    def tokenize_and_encode(examples):\n",
    "        return tokenizer(examples['text'], truncation=True, padding='max_length')\n",
    "\n",
    "    dataset = dataset.map(tokenize_and_encode, batched=True)\n",
    "    return dataset\n",
    "\n",
    "# Download and load the data\n",
    "data = {name: load_data(download_data(url, f'{name}.txt')) for name, url in datasets.items()}\n",
    "\n",
    "# Initialize the model\n",
    "model = LSTMwithMoE(input_dim=300, hidden_dim=100, output_dim=10, num_experts=10)\n",
    "\n",
    "# Train and evaluate the model on each dataset\n",
    "for name, dataset in data.items():\n",
    "    print(f'Training on {name}')\n",
    "    \n",
    "    # Print the keys in the first item of the dataset\n",
    "    print(dataset['train'][0].keys())\n",
    "    \n",
    "    train(model, dataset)\n",
    "    print(f'Evaluating on {name}')\n",
    "    predictions = evaluate(model, dataset)\n",
    "    print(f'Accuracy on {name}: {accuracy_score(dataset, predictions)}')\n",
    "\n",
    "\n",
    "# Define the training function\n",
    "def train(model, data, epochs=10, lr=0.001):\n",
    "    model.train()\n",
    "    optimizer = Adam(model.parameters(), lr=lr)\n",
    "    loss_fn = nn.CrossEntropyLoss()\n",
    "\n",
    "    # Select the 'train' split\n",
    "    data = data['train']\n",
    "\n",
    "    # Create a DataLoader\n",
    "    data_loader = DataLoader(data, batch_size=32)\n",
    "\n",
    "    for epoch in range(epochs):\n",
    "        print(f'Starting epoch {epoch+1}')\n",
    "        epoch_loss = 0\n",
    "        for batch in data_loader:\n",
    "            # Extract the tensors from the batch\n",
    "            input_tensor = batch['input_ids']\n",
    "            \n",
    "            optimizer.zero_grad()\n",
    "            output = model(input_tensor)\n",
    "            # As it's an unsupervised task, we don't calculate loss and backpropagate\n",
    "            # loss = loss_fn(output, target_tensor)\n",
    "            # loss.backward()\n",
    "            optimizer.step()\n",
    "            # epoch_loss += loss.item()\n",
    "        # print(f'Epoch {epoch+1} loss: {epoch_loss/len(data_loader)}')\n",
    "\n",
    "\n",
    "# Define the evaluation function\n",
    "def evaluate(model, data):\n",
    "    model.eval()\n",
    "    predictions = []\n",
    "    with torch.no_grad():\n",
    "        for batch in data:\n",
    "            output = model(batch)\n",
    "            predictions.extend(output.argmax(dim=-1).tolist())\n",
    "    return predictions\n",
    "\n",
    "# Download and load the data\n",
    "data = {name: load_data(download_data(url, f'{name}.txt')) for name, url in datasets.items()}\n",
    "\n",
    "# Initialize the model\n",
    "model = LSTMwithMoE(input_dim=300, hidden_dim=100, output_dim=10, num_experts=10)\n",
    "\n",
    "# Train and evaluate the model on each dataset\n",
    "for name, dataset in data.items():\n",
    "    print(f'Training on {name}')\n",
    "    train(model, dataset)\n",
    "    print(f'Evaluating on {name}')\n",
    "    predictions = evaluate(model, dataset)\n",
    "    print(f'Accuracy on {name}: {accuracy_score(dataset, predictions)}')"
   ]
  },
  {
   "cell_type": "code",
   "execution_count": null,
   "metadata": {},
   "outputs": [],
   "source": []
  }
 ],
 "metadata": {
  "kernelspec": {
   "display_name": "Python 3",
   "language": "python",
   "name": "python3"
  },
  "language_info": {
   "codemirror_mode": {
    "name": "ipython",
    "version": 3
   },
   "file_extension": ".py",
   "mimetype": "text/x-python",
   "name": "python",
   "nbconvert_exporter": "python",
   "pygments_lexer": "ipython3",
   "version": "3.10.12"
  }
 },
 "nbformat": 4,
 "nbformat_minor": 2
}
